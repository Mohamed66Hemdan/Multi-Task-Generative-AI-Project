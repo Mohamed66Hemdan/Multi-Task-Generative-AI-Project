{
 "cells": [
  {
   "cell_type": "code",
   "execution_count": 2,
   "id": "b7b4667d-c862-4fc6-b9b6-e5291ea654af",
   "metadata": {},
   "outputs": [
    {
     "data": {
      "text/plain": [
       "True"
      ]
     },
     "execution_count": 2,
     "metadata": {},
     "output_type": "execute_result"
    }
   ],
   "source": [
    "from langchain_openai import ChatOpenAI\n",
    "from langchain.memory import ConversationBufferMemory\n",
    "from langchain.prompts import ChatPromptTemplate\n",
    "from langchain.chains import LLMChain\n",
    "from langchain_core.messages import AIMessage, HumanMessage\n",
    "from langchain_core.output_parsers.string import StrOutputParser\n",
    "from langchain_together import ChatTogether\n",
    "\n",
    "\n",
    "from dotenv import load_dotenv\n",
    "load_dotenv()\n",
    "\n"
   ]
  },
  {
   "cell_type": "code",
   "execution_count": null,
   "id": "bc3db566-dd69-441e-835b-06e76239b63e",
   "metadata": {},
   "outputs": [],
   "source": [
    "def get_response(\n",
    "        user_query,\n",
    "        chat_history\n",
    "):\n",
    "    llm = ChatTogether(\n",
    "        model=\"meta-llama/Llama-3-70b-chat-hf\",\n",
    "        temperature=0,\n",
    "        max_tokens=None,\n",
    "        timeout=None,\n",
    "        max_retries=2,\n",
    "    )\n",
    "\n",
    "    template = \"\"\"\n",
    "    You are a helpful assistant. Answer the following questions considering the history of the conversation:\n",
    "\n",
    "    Chat history: {chat_history}\n",
    "\n",
    "    User question: {user_question}\n",
    "    \"\"\"\n",
    "\n",
    "    prompt = ChatPromptTemplate.from_template(template)\n",
    "\n",
    "    chain = prompt | llm | StrOutputParser()\n",
    "\n",
    "    return chain.stream(\n",
    "        {\"chat_history\":chat_history,\n",
    "         \"user_question\":user_query}\n",
    "    )"
   ]
  },
  {
   "cell_type": "code",
   "execution_count": 7,
   "id": "fc1b4871-32eb-4808-a7f3-fbf47de84bca",
   "metadata": {},
   "outputs": [],
   "source": [
    "api_key = '326c17f84f17a4e7fb6400ae619a86d15c1e9be3d6ee0309b49a6553cf5c47d0'\n",
    "llm = ChatTogether(\n",
    "        model=\"meta-llama/Llama-3-70b-chat-hf\",\n",
    "        temperature=0,\n",
    "        max_tokens=None,\n",
    "        timeout=None,\n",
    "        max_retries=2,\n",
    "        api_key=api_key,\n",
    "    )"
   ]
  },
  {
   "cell_type": "code",
   "execution_count": 8,
   "id": "4b41f40a-0d1a-4811-a1e9-997bbc46f080",
   "metadata": {},
   "outputs": [],
   "source": [
    "prompt = ChatPromptTemplate.from_template(\"\"\"\n",
    "You are a helpful AI assistant having a conversation with a user. Use the context from previous messages to provide relevant and coherent responses.\n",
    "\n",
    "Previous conversation:\n",
    "{chat_history}\n",
    "\n",
    "Current user message: {user_input}\n",
    "\n",
    "Please respond naturally and helpfully, taking into account the conversation history and context.\n",
    "\"\"\")"
   ]
  },
  {
   "cell_type": "code",
   "execution_count": 9,
   "id": "2fe818b1-77df-49c7-953b-8742c896b3d7",
   "metadata": {},
   "outputs": [
    {
     "name": "stderr",
     "output_type": "stream",
     "text": [
      "C:\\Users\\Dell\\AppData\\Local\\Temp\\ipykernel_18340\\2056754934.py:1: LangChainDeprecationWarning: Please see the migration guide at: https://python.langchain.com/docs/versions/migrating_memory/\n",
      "  memory = ConversationBufferMemory(\n"
     ]
    }
   ],
   "source": [
    "memory = ConversationBufferMemory(\n",
    "    memory_key=\"chat_history\",\n",
    "    return_message=True\n",
    ")"
   ]
  },
  {
   "cell_type": "code",
   "execution_count": 10,
   "id": "a8403135-80c8-4cea-a798-db753af9f882",
   "metadata": {},
   "outputs": [
    {
     "name": "stderr",
     "output_type": "stream",
     "text": [
      "C:\\Users\\Dell\\AppData\\Local\\Temp\\ipykernel_18340\\3070024790.py:1: LangChainDeprecationWarning: The class `LLMChain` was deprecated in LangChain 0.1.17 and will be removed in 1.0. Use :meth:`~RunnableSequence, e.g., `prompt | llm`` instead.\n",
      "  chain = LLMChain(\n"
     ]
    }
   ],
   "source": [
    "chain = LLMChain(\n",
    "    llm=llm,\n",
    "    prompt=prompt,\n",
    "    memory=memory\n",
    ")"
   ]
  },
  {
   "cell_type": "code",
   "execution_count": null,
   "id": "d9094f00-1c1f-4bf7-8cac-c04c2ef4308d",
   "metadata": {},
   "outputs": [],
   "source": []
  },
  {
   "cell_type": "code",
   "execution_count": null,
   "id": "3eebc61d-e036-4545-9778-1fe8eebc2f86",
   "metadata": {},
   "outputs": [],
   "source": []
  },
  {
   "cell_type": "code",
   "execution_count": 11,
   "id": "29322467-8dd7-46d8-8f68-31eb8a28160a",
   "metadata": {},
   "outputs": [
    {
     "name": "stdin",
     "output_type": "stream",
     "text": [
      "Enter your message my name is mohamed \n"
     ]
    },
    {
     "name": "stderr",
     "output_type": "stream",
     "text": [
      "C:\\Users\\Dell\\AppData\\Local\\Temp\\ipykernel_18340\\993614720.py:6: LangChainDeprecationWarning: The method `Chain.run` was deprecated in langchain 0.1.0 and will be removed in 1.0. Use :meth:`~invoke` instead.\n",
      "  result = chain.run({\"user_input\":user_input})\n"
     ]
    },
    {
     "name": "stdout",
     "output_type": "stream",
     "text": [
      "Q: my name is mohamed \n",
      "A: Nice to meet you, Mohamed! It's great to have you here. Is there something I can help you with or would you like to chat about something in particular?\n",
      "--------------------------------------------------\n"
     ]
    },
    {
     "name": "stdin",
     "output_type": "stream",
     "text": [
      "Enter your message exit\n"
     ]
    }
   ],
   "source": [
    "while True:\n",
    "    user_input = input(\"Enter your message\")\n",
    "    if user_input.lower() in ['exit', 'quit', 'close']:\n",
    "        break\n",
    "\n",
    "    result = chain.run({\"user_input\":user_input})\n",
    "    print(f\"Q: {user_input}\")\n",
    "    print(f\"A: {result}\")\n",
    "    print(\"-\"*50)"
   ]
  },
  {
   "cell_type": "code",
   "execution_count": null,
   "id": "b1360658-690a-4aba-a881-87d7f42f8bb7",
   "metadata": {},
   "outputs": [],
   "source": [
    "! streamlit run app.py"
   ]
  }
 ],
 "metadata": {
  "kernelspec": {
   "display_name": "Python 3 (ipykernel)",
   "language": "python",
   "name": "python3"
  },
  "language_info": {
   "codemirror_mode": {
    "name": "ipython",
    "version": 3
   },
   "file_extension": ".py",
   "mimetype": "text/x-python",
   "name": "python",
   "nbconvert_exporter": "python",
   "pygments_lexer": "ipython3",
   "version": "3.12.7"
  }
 },
 "nbformat": 4,
 "nbformat_minor": 5
}
