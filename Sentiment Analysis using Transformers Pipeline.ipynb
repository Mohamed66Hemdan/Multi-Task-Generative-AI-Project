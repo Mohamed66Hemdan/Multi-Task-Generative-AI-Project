{
 "cells": [
  {
   "cell_type": "code",
   "execution_count": null,
   "id": "ed81ace2-1c47-40cf-ac37-31c0cd2d97d3",
   "metadata": {},
   "outputs": [
    {
     "name": "stdout",
     "output_type": "stream",
     "text": [
      "WARNING:tensorflow:From H:\\Programming\\AI\\Python Setup\\Anaconda_setup\\Lib\\site-packages\\tf_keras\\src\\losses.py:2976: The name tf.losses.sparse_softmax_cross_entropy is deprecated. Please use tf.compat.v1.losses.sparse_softmax_cross_entropy instead.\n",
      "\n"
     ]
    },
    {
     "data": {
      "application/vnd.jupyter.widget-view+json": {
       "model_id": "97251d50736f4f2babcc18bf85968e9c",
       "version_major": 2,
       "version_minor": 0
      },
      "text/plain": [
       "pytorch_model.bin:   0%|          | 0.00/499M [00:00<?, ?B/s]"
      ]
     },
     "metadata": {},
     "output_type": "display_data"
    }
   ],
   "source": [
    "from transformers import pipeline\n",
    "classifier = pipeline('sentiment-analysis',model=\"cardiffnlp/twitter-roberta-base-sentiment\")"
   ]
  },
  {
   "cell_type": "code",
   "execution_count": null,
   "id": "f90f18af-48a9-4143-8b81-727c20ba832b",
   "metadata": {},
   "outputs": [],
   "source": [
    "# Classify the sentiment of the sentence\n",
    "result = classifier(\"I love python\")\n",
    "print(result)"
   ]
  },
  {
   "cell_type": "code",
   "execution_count": null,
   "id": "2917cd30-3fca-4a4f-8fc1-3f8833ebd05b",
   "metadata": {},
   "outputs": [],
   "source": [
    "text = \"I hated the food – it was cold and flavorless.\",\n",
    "    \"The service was terrible, we waited over an hour.\",\n",
    "    \"I feel awful, nothing is going right today\n",
    "    \"What a complete disaster. I'm really disappointed\n",
    "    \"The app crashes all the time, very frustrating experience\n",
    "    \"I regret buying this product – total waste of money\n",
    "    \"He was rude and dismissive during the meeting.\"\"\" "
   ]
  },
  {
   "cell_type": "code",
   "execution_count": null,
   "id": "ba308548-9f8e-41e6-ad5a-edac4bc8d778",
   "metadata": {},
   "outputs": [],
   "source": [
    "# Classify the sentiment of the sentence\n",
    "result = classifier(text)\n",
    "print(result)"
   ]
  },
  {
   "cell_type": "code",
   "execution_count": null,
   "id": "42543ebd-216f-492d-afcd-e31404916095",
   "metadata": {},
   "outputs": [],
   "source": []
  }
 ],
 "metadata": {
  "kernelspec": {
   "display_name": "Python 3 (ipykernel)",
   "language": "python",
   "name": "python3"
  },
  "language_info": {
   "codemirror_mode": {
    "name": "ipython",
    "version": 3
   },
   "file_extension": ".py",
   "mimetype": "text/x-python",
   "name": "python",
   "nbconvert_exporter": "python",
   "pygments_lexer": "ipython3",
   "version": "3.12.7"
  }
 },
 "nbformat": 4,
 "nbformat_minor": 5
}
